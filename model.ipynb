{
 "cells": [
  {
   "cell_type": "markdown",
   "metadata": {},
   "source": [
    "# Model"
   ]
  },
  {
   "cell_type": "code",
   "execution_count": 1,
   "metadata": {
    "collapsed": true
   },
   "outputs": [],
   "source": [
    "import pandas as pd\n",
    "from constants import *\n",
    "from helpers import *\n",
    "import numpy as np\n",
    "import xgboost as xgb\n",
    "import warnings\n",
    "warnings.filterwarnings('ignore')\n",
    "%matplotlib inline"
   ]
  },
  {
   "cell_type": "code",
   "execution_count": 2,
   "metadata": {
    "collapsed": true
   },
   "outputs": [],
   "source": [
    "train = pd.read_pickle(TRAIN)\n",
    "test = pd.read_pickle(TEST)"
   ]
  },
  {
   "cell_type": "markdown",
   "metadata": {},
   "source": [
    "Create a 70/30 train/validation split of the training data and also a small sample to speed up testing:"
   ]
  },
  {
   "cell_type": "code",
   "execution_count": 3,
   "metadata": {
    "collapsed": true
   },
   "outputs": [],
   "source": [
    "val_set = (train[[\"user_id\"]]\n",
    "           .drop_duplicates()\n",
    "           .assign(val_flag = True)\n",
    "           .sample(frac = .3, random_state = 152)\n",
    "           .set_index(\"user_id\"))\n",
    "val_bool = train[[\"user_id\"]].join(val_set, on = \"user_id\")[[\"val_flag\"]].notnull()\n",
    "train.eval_set[val_bool.val_flag.values] = \"val\""
   ]
  },
  {
   "cell_type": "code",
   "execution_count": 4,
   "metadata": {
    "collapsed": true
   },
   "outputs": [],
   "source": [
    "train_set_small = (train[train.eval_set == \"train\"][[\"user_id\"]]\n",
    "                   .drop_duplicates()\n",
    "                   .assign(small_flag = True)\n",
    "                   .sample(frac = .2, random_state = 152)\n",
    "                   .set_index(\"user_id\"))\n",
    "small_bool = train[[\"user_id\"]].join(train_set_small, on = \"user_id\")[[\"small_flag\"]].notnull()\n",
    "train.eval_set[small_bool.small_flag.values] = \"train_small\""
   ]
  },
  {
   "cell_type": "code",
   "execution_count": 5,
   "metadata": {},
   "outputs": [
    {
     "data": {
      "text/html": [
       "<div>\n",
       "<table border=\"1\" class=\"dataframe\">\n",
       "  <thead>\n",
       "    <tr style=\"text-align: right;\">\n",
       "      <th></th>\n",
       "      <th>user_id</th>\n",
       "    </tr>\n",
       "    <tr>\n",
       "      <th>eval_set</th>\n",
       "      <th></th>\n",
       "    </tr>\n",
       "  </thead>\n",
       "  <tbody>\n",
       "    <tr>\n",
       "      <th>train</th>\n",
       "      <td>73477</td>\n",
       "    </tr>\n",
       "    <tr>\n",
       "      <th>train_small</th>\n",
       "      <td>18369</td>\n",
       "    </tr>\n",
       "    <tr>\n",
       "      <th>val</th>\n",
       "      <td>39363</td>\n",
       "    </tr>\n",
       "  </tbody>\n",
       "</table>\n",
       "</div>"
      ],
      "text/plain": [
       "             user_id\n",
       "eval_set            \n",
       "train          73477\n",
       "train_small    18369\n",
       "val            39363"
      ]
     },
     "execution_count": 5,
     "metadata": {},
     "output_type": "execute_result"
    }
   ],
   "source": [
    "train.groupby(\"eval_set\").agg({\"user_id\": \"nunique\"})"
   ]
  },
  {
   "cell_type": "markdown",
   "metadata": {},
   "source": [
    "### Model Training"
   ]
  },
  {
   "cell_type": "code",
   "execution_count": 3,
   "metadata": {
    "collapsed": true
   },
   "outputs": [],
   "source": [
    "def buildDMatrix(X, y = None):\n",
    "    cols_to_drop = [\"user_id\", \"order_id\", \"product_id\", \"eval_set\", \"ordered\"]\n",
    "    cols_to_drop_present = list(set(cols_to_drop) & set(X.columns.values))\n",
    "    X_dr = X.drop(cols_to_drop_present, axis = 1)\n",
    "    if y is not None:\n",
    "        dm = xgb.DMatrix(\n",
    "            X_dr.values, label = y.values, feature_names = X_dr.columns.values)\n",
    "    else:\n",
    "        dm = xgb.DMatrix(\n",
    "            X_dr.values, feature_names = X_dr.columns.values)\n",
    "    return dm"
   ]
  },
  {
   "cell_type": "code",
   "execution_count": 4,
   "metadata": {
    "collapsed": true
   },
   "outputs": [],
   "source": [
    "def trainModel(X, y, X_test, y_test = None, model_params = {}, num_boost_round = 80, ev = True):\n",
    "    \n",
    "    # Build DMatrices\n",
    "    print \"Building dmatrices...\"\n",
    "    train_dm = buildDMatrix(X, y)\n",
    "    if X_test is not None:\n",
    "        test_dm = buildDMatrix(X_test, y_test)\n",
    "    \n",
    "    # Fit model\n",
    "    print \"Fitting model...\"\n",
    "    model = xgb.train(model_params, train_dm, num_boost_round = num_boost_round)\n",
    "    \n",
    "    # Get training predictions\n",
    "    print \"Getting training predictions...\"\n",
    "    train_predictions = model.predict(train_dm)\n",
    "    \n",
    "    # Get test predictions\n",
    "    if X_test is not None:\n",
    "        print \"Getting test predictions...\"\n",
    "        test_predictions = model.predict(test_dm)\n",
    "    \n",
    "    train_scores = None\n",
    "    test_scores = None\n",
    "    if ev:\n",
    "        # Evaluate on train\n",
    "        print \"Evaluating on training set...\"\n",
    "        train_scores = evaluate(X, y, train_predictions)\n",
    "\n",
    "        # If test labels known, evaluate on test\n",
    "        if y_test is not None:\n",
    "            print \"Evaluating on test set...\"\n",
    "            test_scores = evaluate(X_test, y_test, test_predictions)\n",
    "    \n",
    "    print \"Done.\"\n",
    "    return {\n",
    "        \"model\": model,\n",
    "        \"train_f1_scores\": train_scores,\n",
    "        \"test_f1_scores\": test_scores,\n",
    "        \"test_predictions\": test_predictions\n",
    "    }"
   ]
  },
  {
   "cell_type": "code",
   "execution_count": 5,
   "metadata": {
    "collapsed": true
   },
   "outputs": [],
   "source": [
    "params = {\n",
    "  \"objective\": \"reg:logistic\",\n",
    "  \"eval_metric\": \"logloss\",\n",
    "  \"eta\": 0.03,\n",
    "  \"max_depth\": 6,\n",
    "  \"min_child_weight\": 10,\n",
    "  \"gamma\": 0.70,\n",
    "  \"subsample\": 0.76,\n",
    "  \"colsample_bytree\": 0.95,\n",
    "  \"alpha\": 3e-05,\n",
    "  \"lambda\": 10\n",
    "}"
   ]
  },
  {
   "cell_type": "markdown",
   "metadata": {},
   "source": [
    "Local Validation:"
   ]
  },
  {
   "cell_type": "code",
   "execution_count": 9,
   "metadata": {
    "collapsed": true
   },
   "outputs": [],
   "source": [
    "# X_train = train[train.eval_set == \"train_small\"]\n",
    "# y_train = train.ordered[train.eval_set == \"train_small\"]\n",
    "# X_test = train[train.eval_set == \"val\"]\n",
    "# y_test = train.ordered[train.eval_set == \"val\"]\n",
    "# model_train = trainModel(\n",
    "#     X_train, y_train, X_test, y_test, params, 70)"
   ]
  },
  {
   "cell_type": "code",
   "execution_count": 10,
   "metadata": {
    "collapsed": true
   },
   "outputs": [],
   "source": [
    "# pd.DataFrame({\n",
    "#     \"Threshold\": model_train[\"train_f1_scores\"].keys(),\n",
    "#     \"Training F1\": model_train[\"train_f1_scores\"].values(),\n",
    "#     \"Test F1\": model_train[\"test_f1_scores\"].values()\n",
    "# }).set_index(\"Threshold\").sort_index()"
   ]
  },
  {
   "cell_type": "code",
   "execution_count": 11,
   "metadata": {
    "collapsed": true
   },
   "outputs": [],
   "source": [
    "# test_scores = evaluate(\n",
    "#     X_test, y_test, model_train[\"test_predictions\"])"
   ]
  },
  {
   "cell_type": "code",
   "execution_count": 12,
   "metadata": {
    "collapsed": true
   },
   "outputs": [],
   "source": [
    "# xgb.plot_importance(model_train[\"model\"])"
   ]
  },
  {
   "cell_type": "code",
   "execution_count": 13,
   "metadata": {
    "collapsed": true
   },
   "outputs": [],
   "source": [
    "# train_preds = model_train[\"model\"].predict(buildDMatrix(X_train))\n",
    "# X_train.assign(training_preds = train_preds).to_pickle(THRESHOLD_TRAINING)"
   ]
  },
  {
   "cell_type": "markdown",
   "metadata": {},
   "source": [
    "Build Submission:"
   ]
  },
  {
   "cell_type": "code",
   "execution_count": 6,
   "metadata": {
    "collapsed": true
   },
   "outputs": [],
   "source": [
    "X_train = train\n",
    "y_train = train.ordered\n",
    "X_test = test\n",
    "y_test = None"
   ]
  },
  {
   "cell_type": "code",
   "execution_count": 15,
   "metadata": {},
   "outputs": [
    {
     "name": "stdout",
     "output_type": "stream",
     "text": [
      "Building dmatrices...\n",
      "Fitting model...\n",
      "Getting training predictions...\n",
      "Getting test predictions...\n",
      "Done.\n"
     ]
    }
   ],
   "source": [
    "model_train = trainModel(\n",
    "    X_train, y_train, X_test, y_test, params, 250, ev = False)"
   ]
  },
  {
   "cell_type": "code",
   "execution_count": 16,
   "metadata": {
    "collapsed": true
   },
   "outputs": [],
   "source": [
    "model_train[\"model\"].save_model(\"./data/full250.model\")"
   ]
  },
  {
   "cell_type": "code",
   "execution_count": 7,
   "metadata": {},
   "outputs": [],
   "source": [
    "model = xgb.Booster()\n",
    "model.load_model(\"./data/full250.model\")"
   ]
  },
  {
   "cell_type": "code",
   "execution_count": 8,
   "metadata": {},
   "outputs": [
    {
     "data": {
      "text/html": [
       "<div>\n",
       "<table border=\"1\" class=\"dataframe\">\n",
       "  <thead>\n",
       "    <tr style=\"text-align: right;\">\n",
       "      <th></th>\n",
       "      <th>user_id</th>\n",
       "      <th>order_id</th>\n",
       "      <th>product_id</th>\n",
       "      <th>eval_set</th>\n",
       "      <th>u_days_since_prior_order_mean</th>\n",
       "      <th>u_days_since_prior_order_median</th>\n",
       "      <th>u_total_orders_max</th>\n",
       "      <th>u_prev_order_dow</th>\n",
       "      <th>u_prev_days_since_prior_order</th>\n",
       "      <th>u_prev_order_size</th>\n",
       "      <th>...</th>\n",
       "      <th>o_same_dow</th>\n",
       "      <th>u_products_ratio</th>\n",
       "      <th>up_days_between_orders_diff_last</th>\n",
       "      <th>up_days_between_orders_diff_mean</th>\n",
       "      <th>up_days_between_orders_diff_median</th>\n",
       "      <th>up_order_number_gap</th>\n",
       "      <th>up_orders_since_last_order</th>\n",
       "      <th>up_reorder_rate</th>\n",
       "      <th>up_reorder_rate_since_first</th>\n",
       "      <th>ordered</th>\n",
       "    </tr>\n",
       "  </thead>\n",
       "  <tbody>\n",
       "    <tr>\n",
       "      <th>766</th>\n",
       "      <td>15</td>\n",
       "      <td>2161313</td>\n",
       "      <td>196</td>\n",
       "      <td>test</td>\n",
       "      <td>10.809524</td>\n",
       "      <td>8.0</td>\n",
       "      <td>22</td>\n",
       "      <td>1</td>\n",
       "      <td>14</td>\n",
       "      <td>2</td>\n",
       "      <td>...</td>\n",
       "      <td>True</td>\n",
       "      <td>0.180556</td>\n",
       "      <td>-7</td>\n",
       "      <td>-3.500000</td>\n",
       "      <td>-3.5</td>\n",
       "      <td>7</td>\n",
       "      <td>0</td>\n",
       "      <td>0.227273</td>\n",
       "      <td>0.571429</td>\n",
       "      <td>0</td>\n",
       "    </tr>\n",
       "    <tr>\n",
       "      <th>959</th>\n",
       "      <td>19</td>\n",
       "      <td>1735923</td>\n",
       "      <td>196</td>\n",
       "      <td>test</td>\n",
       "      <td>9.500000</td>\n",
       "      <td>7.5</td>\n",
       "      <td>9</td>\n",
       "      <td>5</td>\n",
       "      <td>8</td>\n",
       "      <td>21</td>\n",
       "      <td>...</td>\n",
       "      <td>False</td>\n",
       "      <td>0.651961</td>\n",
       "      <td>NaN</td>\n",
       "      <td>NaN</td>\n",
       "      <td>NaN</td>\n",
       "      <td>5</td>\n",
       "      <td>2</td>\n",
       "      <td>0.333333</td>\n",
       "      <td>0.285714</td>\n",
       "      <td>0</td>\n",
       "    </tr>\n",
       "    <tr>\n",
       "      <th>1792</th>\n",
       "      <td>31</td>\n",
       "      <td>280888</td>\n",
       "      <td>196</td>\n",
       "      <td>test</td>\n",
       "      <td>4.894737</td>\n",
       "      <td>6.0</td>\n",
       "      <td>20</td>\n",
       "      <td>0</td>\n",
       "      <td>0</td>\n",
       "      <td>5</td>\n",
       "      <td>...</td>\n",
       "      <td>False</td>\n",
       "      <td>0.635452</td>\n",
       "      <td>NaN</td>\n",
       "      <td>NaN</td>\n",
       "      <td>NaN</td>\n",
       "      <td>7</td>\n",
       "      <td>3</td>\n",
       "      <td>0.100000</td>\n",
       "      <td>0.100000</td>\n",
       "      <td>0</td>\n",
       "    </tr>\n",
       "    <tr>\n",
       "      <th>5750</th>\n",
       "      <td>98</td>\n",
       "      <td>139487</td>\n",
       "      <td>196</td>\n",
       "      <td>test</td>\n",
       "      <td>20.307692</td>\n",
       "      <td>24.0</td>\n",
       "      <td>14</td>\n",
       "      <td>5</td>\n",
       "      <td>8</td>\n",
       "      <td>2</td>\n",
       "      <td>...</td>\n",
       "      <td>False</td>\n",
       "      <td>0.540000</td>\n",
       "      <td>22</td>\n",
       "      <td>7.333333</td>\n",
       "      <td>0.0</td>\n",
       "      <td>11</td>\n",
       "      <td>0</td>\n",
       "      <td>0.500000</td>\n",
       "      <td>0.545455</td>\n",
       "      <td>0</td>\n",
       "    </tr>\n",
       "    <tr>\n",
       "      <th>18638</th>\n",
       "      <td>290</td>\n",
       "      <td>3116687</td>\n",
       "      <td>196</td>\n",
       "      <td>test</td>\n",
       "      <td>7.140000</td>\n",
       "      <td>7.0</td>\n",
       "      <td>51</td>\n",
       "      <td>6</td>\n",
       "      <td>7</td>\n",
       "      <td>19</td>\n",
       "      <td>...</td>\n",
       "      <td>True</td>\n",
       "      <td>0.344654</td>\n",
       "      <td>NaN</td>\n",
       "      <td>NaN</td>\n",
       "      <td>NaN</td>\n",
       "      <td>19</td>\n",
       "      <td>23</td>\n",
       "      <td>0.039216</td>\n",
       "      <td>0.023810</td>\n",
       "      <td>0</td>\n",
       "    </tr>\n",
       "  </tbody>\n",
       "</table>\n",
       "<p>5 rows × 44 columns</p>\n",
       "</div>"
      ],
      "text/plain": [
       "       user_id  order_id  product_id eval_set  u_days_since_prior_order_mean  \\\n",
       "766         15   2161313         196     test                      10.809524   \n",
       "959         19   1735923         196     test                       9.500000   \n",
       "1792        31    280888         196     test                       4.894737   \n",
       "5750        98    139487         196     test                      20.307692   \n",
       "18638      290   3116687         196     test                       7.140000   \n",
       "\n",
       "       u_days_since_prior_order_median  u_total_orders_max  u_prev_order_dow  \\\n",
       "766                                8.0                  22                 1   \n",
       "959                                7.5                   9                 5   \n",
       "1792                               6.0                  20                 0   \n",
       "5750                              24.0                  14                 5   \n",
       "18638                              7.0                  51                 6   \n",
       "\n",
       "       u_prev_days_since_prior_order  u_prev_order_size   ...     o_same_dow  \\\n",
       "766                               14                  2   ...           True   \n",
       "959                                8                 21   ...          False   \n",
       "1792                               0                  5   ...          False   \n",
       "5750                               8                  2   ...          False   \n",
       "18638                              7                 19   ...           True   \n",
       "\n",
       "       u_products_ratio  up_days_between_orders_diff_last  \\\n",
       "766            0.180556                                -7   \n",
       "959            0.651961                               NaN   \n",
       "1792           0.635452                               NaN   \n",
       "5750           0.540000                                22   \n",
       "18638          0.344654                               NaN   \n",
       "\n",
       "       up_days_between_orders_diff_mean  up_days_between_orders_diff_median  \\\n",
       "766                           -3.500000                                -3.5   \n",
       "959                                 NaN                                 NaN   \n",
       "1792                                NaN                                 NaN   \n",
       "5750                           7.333333                                 0.0   \n",
       "18638                               NaN                                 NaN   \n",
       "\n",
       "       up_order_number_gap  up_orders_since_last_order  up_reorder_rate  \\\n",
       "766                      7                           0         0.227273   \n",
       "959                      5                           2         0.333333   \n",
       "1792                     7                           3         0.100000   \n",
       "5750                    11                           0         0.500000   \n",
       "18638                   19                          23         0.039216   \n",
       "\n",
       "       up_reorder_rate_since_first  ordered  \n",
       "766                       0.571429        0  \n",
       "959                       0.285714        0  \n",
       "1792                      0.100000        0  \n",
       "5750                      0.545455        0  \n",
       "18638                     0.023810        0  \n",
       "\n",
       "[5 rows x 44 columns]"
      ]
     },
     "execution_count": 8,
     "metadata": {},
     "output_type": "execute_result"
    }
   ],
   "source": [
    "X_test.head()"
   ]
  },
  {
   "cell_type": "code",
   "execution_count": 9,
   "metadata": {},
   "outputs": [],
   "source": [
    "test_preds = model.predict(buildDMatrix(X_test))"
   ]
  },
  {
   "cell_type": "markdown",
   "metadata": {},
   "source": [
    "Without Dynamic Threshold:"
   ]
  },
  {
   "cell_type": "code",
   "execution_count": 17,
   "metadata": {
    "collapsed": true
   },
   "outputs": [],
   "source": [
    "# pred_str = binaryPredictionToString(X_test, test_preds, .191)\n",
    "# pred_str.to_csv(\"./data/new_features_tuning.csv\")"
   ]
  },
  {
   "cell_type": "markdown",
   "metadata": {},
   "source": [
    "With Dynamic Threshold:"
   ]
  },
  {
   "cell_type": "code",
   "execution_count": 18,
   "metadata": {
    "collapsed": true
   },
   "outputs": [],
   "source": [
    "# test_threshold = pd.read_pickle(TEST_THRESHOLD)"
   ]
  },
  {
   "cell_type": "code",
   "execution_count": 19,
   "metadata": {
    "collapsed": true
   },
   "outputs": [],
   "source": [
    "# test_full = (X_test\n",
    "#              .assign(pred = test_preds)\n",
    "#              .set_index(\"user_id\")\n",
    "#              .join(test_threshold))"
   ]
  },
  {
   "cell_type": "code",
   "execution_count": 20,
   "metadata": {
    "collapsed": true
   },
   "outputs": [],
   "source": [
    "# pred_str = binaryPredictionToString(test_full, test_full.pred.values, \n",
    "#                                     thr = (test_full.test_preds.values + 3*.19)/4, #shrinkage\n",
    "#                                     dynamic = True)\n",
    "# pred_str.to_csv(\"./data/new_features2_tuning_w_threshold_shrunk3.csv\")"
   ]
  },
  {
   "cell_type": "markdown",
   "metadata": {},
   "source": [
    "With Basket Size Prediction"
   ]
  },
  {
   "cell_type": "code",
   "execution_count": 10,
   "metadata": {
    "collapsed": true
   },
   "outputs": [],
   "source": [
    "size_pred = pd.read_pickle(BASKET_SIZE)"
   ]
  },
  {
   "cell_type": "code",
   "execution_count": 11,
   "metadata": {},
   "outputs": [],
   "source": [
    "test_full = (X_test\n",
    "             .assign(pred = test_preds)\n",
    "             .set_index(\"user_id\")\n",
    "             .join(size_pred))"
   ]
  },
  {
   "cell_type": "code",
   "execution_count": 17,
   "metadata": {},
   "outputs": [],
   "source": [
    "pred_str = binaryPredictionToString(test_full, test_full.pred.values, \n",
    "                                    thr = test_full.reorder_size_prediction,\n",
    "                                    basket = True)\n",
    "pred_str.to_csv(\"./data/new_features2_tuning_w_basket_size.csv\")"
   ]
  }
 ],
 "metadata": {
  "kernelspec": {
   "display_name": "Python 2",
   "language": "python",
   "name": "python2"
  },
  "language_info": {
   "codemirror_mode": {
    "name": "ipython",
    "version": 2
   },
   "file_extension": ".py",
   "mimetype": "text/x-python",
   "name": "python",
   "nbconvert_exporter": "python",
   "pygments_lexer": "ipython2",
   "version": "2.7.13"
  }
 },
 "nbformat": 4,
 "nbformat_minor": 2
}
