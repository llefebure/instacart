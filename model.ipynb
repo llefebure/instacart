{
 "cells": [
  {
   "cell_type": "markdown",
   "metadata": {},
   "source": [
    "# Model"
   ]
  },
  {
   "cell_type": "code",
   "execution_count": 1,
   "metadata": {
    "collapsed": true
   },
   "outputs": [],
   "source": [
    "import pandas as pd\n",
    "from constants import *\n",
    "from helpers import *\n",
    "import numpy as np\n",
    "import xgboost as xgb\n",
    "import warnings\n",
    "warnings.filterwarnings('ignore')\n",
    "%matplotlib inline"
   ]
  },
  {
   "cell_type": "code",
   "execution_count": 2,
   "metadata": {
    "collapsed": true
   },
   "outputs": [],
   "source": [
    "train = pd.read_pickle(TRAIN)\n",
    "test = pd.read_pickle(TEST)"
   ]
  },
  {
   "cell_type": "markdown",
   "metadata": {},
   "source": [
    "Create a 70/30 train/validation split of the training data and also a small sample to speed up testing:"
   ]
  },
  {
   "cell_type": "code",
   "execution_count": 3,
   "metadata": {
    "collapsed": true
   },
   "outputs": [],
   "source": [
    "val_set = (train[[\"user_id\"]]\n",
    "           .drop_duplicates()\n",
    "           .assign(val_flag = True)\n",
    "           .sample(frac = .3, random_state = 152)\n",
    "           .set_index(\"user_id\"))\n",
    "val_bool = train[[\"user_id\"]].join(val_set, on = \"user_id\")[[\"val_flag\"]].notnull()\n",
    "train.eval_set[val_bool.val_flag.values] = \"val\""
   ]
  },
  {
   "cell_type": "code",
   "execution_count": 4,
   "metadata": {
    "collapsed": true
   },
   "outputs": [],
   "source": [
    "train_set_small = (train[train.eval_set == \"train\"][[\"user_id\"]]\n",
    "                   .drop_duplicates()\n",
    "                   .assign(small_flag = True)\n",
    "                   .sample(frac = .2, random_state = 152)\n",
    "                   .set_index(\"user_id\"))\n",
    "small_bool = train[[\"user_id\"]].join(train_set_small, on = \"user_id\")[[\"small_flag\"]].notnull()\n",
    "train.eval_set[small_bool.small_flag.values] = \"train_small\""
   ]
  },
  {
   "cell_type": "code",
   "execution_count": 5,
   "metadata": {},
   "outputs": [
    {
     "data": {
      "text/html": [
       "<div>\n",
       "<table border=\"1\" class=\"dataframe\">\n",
       "  <thead>\n",
       "    <tr style=\"text-align: right;\">\n",
       "      <th></th>\n",
       "      <th>user_id</th>\n",
       "    </tr>\n",
       "    <tr>\n",
       "      <th>eval_set</th>\n",
       "      <th></th>\n",
       "    </tr>\n",
       "  </thead>\n",
       "  <tbody>\n",
       "    <tr>\n",
       "      <th>train</th>\n",
       "      <td>73477</td>\n",
       "    </tr>\n",
       "    <tr>\n",
       "      <th>train_small</th>\n",
       "      <td>18369</td>\n",
       "    </tr>\n",
       "    <tr>\n",
       "      <th>val</th>\n",
       "      <td>39363</td>\n",
       "    </tr>\n",
       "  </tbody>\n",
       "</table>\n",
       "</div>"
      ],
      "text/plain": [
       "             user_id\n",
       "eval_set            \n",
       "train          73477\n",
       "train_small    18369\n",
       "val            39363"
      ]
     },
     "execution_count": 5,
     "metadata": {},
     "output_type": "execute_result"
    }
   ],
   "source": [
    "train.groupby(\"eval_set\").agg({\"user_id\": \"nunique\"})"
   ]
  },
  {
   "cell_type": "markdown",
   "metadata": {},
   "source": [
    "### Model Training"
   ]
  },
  {
   "cell_type": "code",
   "execution_count": 6,
   "metadata": {
    "collapsed": true
   },
   "outputs": [],
   "source": [
    "def buildDMatrix(X, y = None):\n",
    "    cols_to_drop = [\"user_id\", \"order_id\", \"product_id\", \"eval_set\", \"ordered\"]\n",
    "    cols_to_drop_present = list(set(cols_to_drop) & set(X.columns.values))\n",
    "    X_dr = X.drop(cols_to_drop_present, axis = 1)\n",
    "    if y is not None:\n",
    "        dm = xgb.DMatrix(\n",
    "            X_dr.values, label = y.values, feature_names = X_dr.columns.values)\n",
    "    else:\n",
    "        dm = xgb.DMatrix(\n",
    "            X_dr.values, feature_names = X_dr.columns.values)\n",
    "    return dm"
   ]
  },
  {
   "cell_type": "code",
   "execution_count": 7,
   "metadata": {
    "collapsed": true
   },
   "outputs": [],
   "source": [
    "def trainModel(X, y, X_test, y_test = None, model_params = {}, num_boost_round = 80, ev = True):\n",
    "    \n",
    "    # Build DMatrices\n",
    "    print \"Building dmatrices...\"\n",
    "    train_dm = buildDMatrix(X, y)\n",
    "    if X_test is not None:\n",
    "        test_dm = buildDMatrix(X_test, y_test)\n",
    "    \n",
    "    # Fit model\n",
    "    print \"Fitting model...\"\n",
    "    model = xgb.train(model_params, train_dm, num_boost_round = num_boost_round)\n",
    "    \n",
    "    # Get training predictions\n",
    "    print \"Getting training predictions...\"\n",
    "    train_predictions = model.predict(train_dm)\n",
    "    \n",
    "    # Get test predictions\n",
    "    if X_test is not None:\n",
    "        print \"Getting test predictions...\"\n",
    "        test_predictions = model.predict(test_dm)\n",
    "    \n",
    "    train_scores = None\n",
    "    test_scores = None\n",
    "    if ev:\n",
    "        # Evaluate on train\n",
    "        print \"Evaluating on training set...\"\n",
    "        train_scores = evaluate(X, y, train_predictions)\n",
    "\n",
    "        # If test labels known, evaluate on test\n",
    "        if y_test is not None:\n",
    "            print \"Evaluating on test set...\"\n",
    "            test_scores = evaluate(X_test, y_test, test_predictions)\n",
    "    \n",
    "    print \"Done.\"\n",
    "    return {\n",
    "        \"model\": model,\n",
    "        \"train_f1_scores\": train_scores,\n",
    "        \"test_f1_scores\": test_scores,\n",
    "        \"test_predictions\": test_predictions\n",
    "    }"
   ]
  },
  {
   "cell_type": "code",
   "execution_count": 8,
   "metadata": {
    "collapsed": true
   },
   "outputs": [],
   "source": [
    "params = {\n",
    "  \"objective\": \"reg:logistic\",\n",
    "  \"eval_metric\": \"logloss\",\n",
    "  \"eta\": 0.03,\n",
    "  \"max_depth\": 6,\n",
    "  \"min_child_weight\": 10,\n",
    "  \"gamma\": 0.70,\n",
    "  \"subsample\": 0.76,\n",
    "  \"colsample_bytree\": 0.95,\n",
    "  \"alpha\": 3e-05,\n",
    "  \"lambda\": 10\n",
    "}"
   ]
  },
  {
   "cell_type": "markdown",
   "metadata": {},
   "source": [
    "Local Validation:"
   ]
  },
  {
   "cell_type": "code",
   "execution_count": 9,
   "metadata": {
    "collapsed": true
   },
   "outputs": [],
   "source": [
    "# X_train = train[train.eval_set == \"train_small\"]\n",
    "# y_train = train.ordered[train.eval_set == \"train_small\"]\n",
    "# X_test = train[train.eval_set == \"val\"]\n",
    "# y_test = train.ordered[train.eval_set == \"val\"]\n",
    "# model_train = trainModel(\n",
    "#     X_train, y_train, X_test, y_test, params, 250)"
   ]
  },
  {
   "cell_type": "code",
   "execution_count": 10,
   "metadata": {},
   "outputs": [],
   "source": [
    "# pd.DataFrame({\n",
    "#     \"Threshold\": model_train[\"train_f1_scores\"].keys(),\n",
    "#     \"Training F1\": model_train[\"train_f1_scores\"].values(),\n",
    "#     \"Test F1\": model_train[\"test_f1_scores\"].values()\n",
    "# }).set_index(\"Threshold\").sort_index()"
   ]
  },
  {
   "cell_type": "code",
   "execution_count": 11,
   "metadata": {
    "collapsed": true
   },
   "outputs": [],
   "source": [
    "# test_scores = evaluate(\n",
    "#     X_test, y_test, model_train[\"test_predictions\"])"
   ]
  },
  {
   "cell_type": "code",
   "execution_count": 12,
   "metadata": {},
   "outputs": [],
   "source": [
    "# xgb.plot_importance(model_train[\"model\"])"
   ]
  },
  {
   "cell_type": "code",
   "execution_count": 13,
   "metadata": {
    "collapsed": true
   },
   "outputs": [],
   "source": [
    "# train_preds = model_train[\"model\"].predict(buildDMatrix(X_train))\n",
    "# X_train.assign(training_preds = train_preds).to_pickle(THRESHOLD_TRAINING)"
   ]
  },
  {
   "cell_type": "markdown",
   "metadata": {},
   "source": [
    "Build Submission:"
   ]
  },
  {
   "cell_type": "code",
   "execution_count": 14,
   "metadata": {
    "collapsed": true
   },
   "outputs": [],
   "source": [
    "X_train = train\n",
    "y_train = train.ordered\n",
    "X_test = test\n",
    "y_test = None"
   ]
  },
  {
   "cell_type": "code",
   "execution_count": 15,
   "metadata": {},
   "outputs": [
    {
     "name": "stdout",
     "output_type": "stream",
     "text": [
      "Building dmatrices...\n",
      "Fitting model...\n",
      "Getting training predictions...\n",
      "Getting test predictions...\n",
      "Done.\n"
     ]
    }
   ],
   "source": [
    "model_train = trainModel(\n",
    "    X_train, y_train, X_test, y_test, params, 250, ev = False)"
   ]
  },
  {
   "cell_type": "code",
   "execution_count": 25,
   "metadata": {
    "collapsed": true
   },
   "outputs": [],
   "source": [
    "model_train[\"model\"].save_model(\"./data/full250.model\")"
   ]
  },
  {
   "cell_type": "markdown",
   "metadata": {},
   "source": [
    "Without Dynamic Threshold:"
   ]
  },
  {
   "cell_type": "code",
   "execution_count": 16,
   "metadata": {
    "collapsed": true
   },
   "outputs": [],
   "source": [
    "# pred_str = binaryPredictionToString(X_test, model_train[\"test_predictions\"], .191)\n",
    "# pred_str.to_csv(\"./data/new_features_tuning.csv\")"
   ]
  },
  {
   "cell_type": "markdown",
   "metadata": {},
   "source": [
    "With Dynamic Threshold:"
   ]
  },
  {
   "cell_type": "code",
   "execution_count": 17,
   "metadata": {
    "collapsed": true
   },
   "outputs": [],
   "source": [
    "test_threshold = pd.read_pickle(TEST_THRESHOLD)"
   ]
  },
  {
   "cell_type": "code",
   "execution_count": 18,
   "metadata": {},
   "outputs": [],
   "source": [
    "test_full = (X_test\n",
    "             .assign(pred = model_train[\"test_predictions\"])\n",
    "             .set_index(\"user_id\")\n",
    "             .join(test_threshold))"
   ]
  },
  {
   "cell_type": "code",
   "execution_count": 24,
   "metadata": {},
   "outputs": [],
   "source": [
    "pred_str = binaryPredictionToString(test_full, test_full.pred.values, \n",
    "                                    thr = (test_full.test_preds.values + 3*.19)/4, #shrinkage\n",
    "                                    dynamic = True)\n",
    "pred_str.to_csv(\"./data/new_features_tuning_w_threshold_shrunk4.csv\")"
   ]
  }
 ],
 "metadata": {
  "kernelspec": {
   "display_name": "Python 2",
   "language": "python",
   "name": "python2"
  },
  "language_info": {
   "codemirror_mode": {
    "name": "ipython",
    "version": 2
   },
   "file_extension": ".py",
   "mimetype": "text/x-python",
   "name": "python",
   "nbconvert_exporter": "python",
   "pygments_lexer": "ipython2",
   "version": "2.7.13"
  }
 },
 "nbformat": 4,
 "nbformat_minor": 2
}
