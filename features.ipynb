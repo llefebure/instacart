{
 "cells": [
  {
   "cell_type": "markdown",
   "metadata": {},
   "source": [
    "# Feature Engineering"
   ]
  },
  {
   "cell_type": "markdown",
   "metadata": {},
   "source": [
    "This notebook builds the features for the model"
   ]
  },
  {
   "cell_type": "code",
   "execution_count": 1,
   "metadata": {
    "collapsed": true
   },
   "outputs": [],
   "source": [
    "from constants import *\n",
    "import pandas as pd\n",
    "import numpy as np\n",
    "import time"
   ]
  },
  {
   "cell_type": "code",
   "execution_count": 2,
   "metadata": {},
   "outputs": [],
   "source": [
    "aisles = pd.read_csv(AISLES)\n",
    "departments = pd.read_csv(DEPARTMENTS)\n",
    "order_products_prior = pd.read_csv(ORDER_PRODUCTS_PRIOR)\n",
    "order_products_train = pd.read_csv(ORDER_PRODUCTS_TRAIN)\n",
    "orders = pd.read_csv(ORDERS)\n",
    "products = pd.read_csv(PRODUCTS)"
   ]
  },
  {
   "cell_type": "code",
   "execution_count": 3,
   "metadata": {
    "collapsed": true
   },
   "outputs": [],
   "source": [
    "def collapseNames(c):\n",
    "    '''Flattens multi-index'''\n",
    "    return map(lambda x: \"_\".join([x] if type(x) == str else x).replace(\"<lambda>\", \"\").strip(\"_\"), c)"
   ]
  },
  {
   "cell_type": "code",
   "execution_count": 4,
   "metadata": {
    "collapsed": true
   },
   "outputs": [],
   "source": [
    "def buildFeatures(or_target, or_past, pr, op_past, op_train, verbose = False):\n",
    "    '''Build feature matrix'''\n",
    "    \n",
    "    # get triplets (user_id, order_id, product_id) for all the candidates\n",
    "    # in the target sets\n",
    "    if verbose:\n",
    "        start = time.time()\n",
    "        print \"Retrieving candidates...\"\n",
    "    joined_op = (or_target.join(or_past.set_index(\"user_id\"), \n",
    "                                on = \"user_id\", rsuffix = \"_past\")\n",
    "                 .join(op_past.set_index(\"order_id\"), \n",
    "                       on = \"order_id_past\")\n",
    "                 [[\"user_id\", \"order_id\", \"product_id\", \"eval_set\"]]\n",
    "                 .set_index(\"user_id\")\n",
    "                 .drop_duplicates()\n",
    "                 .reset_index())\n",
    "    \n",
    "    # compute the response -- test response is irrelevant so those will\n",
    "    # be padded with zeros for simplicity\n",
    "    if verbose:\n",
    "        print \"Generating response...\"\n",
    "    y = (joined_op.join(op_train.set_index([\"order_id\", \"product_id\"]), \n",
    "                        on = [\"order_id\", \"product_id\"], how = \"left\")\n",
    "         .rename(columns = {\"reordered\": \"ordered\"}))\n",
    "    y[\"ordered\"][y.ordered.isnull()] = 0\n",
    "    \n",
    "    if verbose:\n",
    "        print \"Beginning to build feature set...\"\n",
    "    \n",
    "    # user order features\n",
    "    if verbose:\n",
    "        print \"--->Getting user features\"\n",
    "    user_features = (or_past.groupby(\"user_id\")\n",
    "                     .agg({\n",
    "                         \"order_number\": \"max\",\n",
    "                         \"days_since_prior_order\": \"mean\"\n",
    "                     })\n",
    "                     .rename(columns = {\n",
    "                         \"order_number\": \"u_total_orders\",\n",
    "                         \"days_since_prior_order\": \"u_days_since_prior_order\"\n",
    "                     }))\n",
    "    user_features.columns = collapseNames(user_features.columns)\n",
    "    \n",
    "    # user products in past orders\n",
    "    user_product_joined = (or_past.join(op_past.set_index(\"order_id\"), \n",
    "                                        on = \"order_id\", how = \"inner\"))    \n",
    "    \n",
    "    # user reorder history by order features\n",
    "    user_generic_op_features = (user_product_joined.groupby([\"order_id\", \"user_id\"])\n",
    "                                .agg({\n",
    "                                    \"product_id\": \"count\",\n",
    "                                    \"reordered\": \"mean\"\n",
    "                                })\n",
    "                                .reset_index()\n",
    "                                .groupby(\"user_id\")\n",
    "                                .agg({\n",
    "                                    \"product_id\": \"mean\",\n",
    "                                    \"reordered\": lambda x: np.sum(x)/(len(x) - 1) # reorder rate after first order\n",
    "                                })\n",
    "                                .rename(columns = {\n",
    "                                    \"product_id\": \"u_basket_size\",\n",
    "                                    \"reordered\": \"u_reorder_rate_after_first_order\"\n",
    "                                }))\n",
    "    \n",
    "    # user overall product reorder history\n",
    "    user_generic_pr_features = (user_product_joined.groupby(\"user_id\")\n",
    "                                .agg({\n",
    "                                    \"product_id\": [\"nunique\", \"count\"],\n",
    "                                    \"reordered\": \"sum\"\n",
    "                                })\n",
    "                                .rename(columns = {\n",
    "                                    \"product_id\": \"u_products\",\n",
    "                                    \"reordered\": \"u_total_reorders\"\n",
    "                                }))\n",
    "    user_generic_pr_features.columns = collapseNames(user_generic_pr_features.columns)\n",
    "    \n",
    "    # global product features\n",
    "    if verbose:\n",
    "        print \"--->Getting product features\"\n",
    "    product_features = (op_past.groupby(\"product_id\")\n",
    "                        .agg({\n",
    "                            \"add_to_cart_order\": \"mean\",\n",
    "                            \"reordered\": [\"sum\", \"mean\"],\n",
    "                            \"order_id\": \"count\"\n",
    "                        })\n",
    "                        .rename(columns = {\n",
    "                            \"add_to_cart_order\": \"pr_add_to_cart_order\",\n",
    "                            \"reordered\": \"pr_reordered\",\n",
    "                            \"order_id\": \"pr_order\"\n",
    "                        }))\n",
    "    product_features.columns = collapseNames(product_features.columns)\n",
    "    \n",
    "    # order features\n",
    "    if verbose:\n",
    "        print \"--->Getting order features\"\n",
    "    order_features = (or_target[[\"order_id\", \"days_since_prior_order\"]]\n",
    "                      .set_index(\"order_id\")\n",
    "                      .rename(columns = {\n",
    "                          \"days_since_prior_order\": \"o_days_since_prior_order\"\n",
    "                      }))\n",
    "    \n",
    "    ## user-product features\n",
    "    if verbose:\n",
    "        print \"--->Getting user-product features\"\n",
    "    user_product_features = (user_product_joined.groupby([\"user_id\", \"product_id\"])\n",
    "                             .agg({\n",
    "                                 \"reordered\": \"count\",\n",
    "                                 \"add_to_cart_order\": \"mean\",\n",
    "                                 \"order_number\": [\"min\", \"max\"] # first and last order of product\n",
    "                             })\n",
    "                             .rename(columns = {\n",
    "                                 \"reordered\": \"up_reorder\",\n",
    "                                 \"add_to_cart_order\": \"up_add_to_cart_order\",\n",
    "                                 \"order_number\": \"up_order_number\"\n",
    "                             }))\n",
    "    user_product_features.columns = collapseNames(user_product_features.columns)    \n",
    "    \n",
    "    ## custom features\n",
    "    \n",
    "    # Proportion of users who ordered product that reordered\n",
    "    pr_reorder_prob = (user_product_features\n",
    "                       .reset_index()\n",
    "                       .assign(reordered_bool = 1*(user_product_features.up_reorder_count > 1).values)\n",
    "                       .groupby(\"product_id\")\n",
    "                       .agg({\n",
    "                           \"reordered_bool\": \"mean\",\n",
    "                           \"up_reorder_count\": \"mean\"\n",
    "                       })\n",
    "                       .rename(columns = {\n",
    "                           \"reordered_bool\": \"pr_reorder_prob\",\n",
    "                           \"up_reorder_count\": \"pr_reorder_times\"\n",
    "                       }))\n",
    "    \n",
    "    # TODO: days since last order\n",
    "        \n",
    "    ## join all features to build training set\n",
    "    if verbose:\n",
    "        print \"--->Combining\"\n",
    "    feature_matrix = (joined_op.join(user_features, on = \"user_id\", how = \"inner\")\n",
    "                      .join(user_generic_op_features, on = \"user_id\", how = \"inner\")\n",
    "                      .join(user_generic_pr_features, on = \"user_id\", how = \"inner\")\n",
    "                      .join(product_features, on = \"product_id\", how = \"inner\")\n",
    "                      .join(order_features, on = \"order_id\", how = \"inner\")\n",
    "                      .join(user_product_features, on = [\"user_id\", \"product_id\"], how = \"inner\")\n",
    "                      .join(pr_reorder_prob, on = \"product_id\", how = \"inner\"))\n",
    "    \n",
    "    ## add feature transformations\n",
    "    if verbose:\n",
    "        print \"--->Making transformations\"\n",
    "    \n",
    "    #  number of orders since last order of product\n",
    "    up_orders_since_last_order = feature_matrix.u_total_orders - feature_matrix.up_order_number_max\n",
    "    # number of reorders of product divided by total number of orders\n",
    "    up_reorder_rate = feature_matrix.up_reorder_count / feature_matrix.u_total_orders\n",
    "    # reorder rate since first order of product\n",
    "    up_reorder_rate_since_first = ((feature_matrix.up_reorder_count - 1) /\n",
    "        (feature_matrix.u_total_orders - feature_matrix.up_order_number_min))\n",
    "    \n",
    "    feature_matrix = feature_matrix.assign(up_orders_since_last_order = up_orders_since_last_order,\n",
    "                                           up_reorder_rate = up_reorder_rate,\n",
    "                                           up_reorder_rate_since_first = up_reorder_rate_since_first)\n",
    "    \n",
    "    \n",
    "    full = feature_matrix.join(y.set_index([\"user_id\", \"order_id\", \"product_id\"])[[\"ordered\"]],\n",
    "                               on = [\"user_id\", \"order_id\", \"product_id\"], how = \"inner\")\n",
    "    \n",
    "    if verbose:\n",
    "        finish_time = time.time() - start\n",
    "        print \"Done in %s seconds\" % str(finish_time)\n",
    "    \n",
    "    return full"
   ]
  },
  {
   "cell_type": "code",
   "execution_count": 5,
   "metadata": {
    "collapsed": true
   },
   "outputs": [],
   "source": [
    "# or_target = orders[(orders.eval_set == \"train\") | (orders.eval_set == \"test\")]\n",
    "# or_past = orders[orders.eval_set == \"prior\"]\n",
    "# pr = products\n",
    "# op_past = order_products_prior\n",
    "# op_train = order_products_train"
   ]
  },
  {
   "cell_type": "code",
   "execution_count": 6,
   "metadata": {},
   "outputs": [
    {
     "name": "stdout",
     "output_type": "stream",
     "text": [
      "Retrieving candidates...\n",
      "Generating response...\n"
     ]
    },
    {
     "name": "stderr",
     "output_type": "stream",
     "text": [
      "/Users/lukelefebure/anaconda/lib/python2.7/site-packages/ipykernel/__main__.py:25: SettingWithCopyWarning: \n",
      "A value is trying to be set on a copy of a slice from a DataFrame\n",
      "\n",
      "See the caveats in the documentation: http://pandas.pydata.org/pandas-docs/stable/indexing.html#indexing-view-versus-copy\n"
     ]
    },
    {
     "name": "stdout",
     "output_type": "stream",
     "text": [
      "Beginning to build feature set...\n",
      "--->Getting user features\n",
      "--->Getting product features\n",
      "--->Getting order features\n",
      "--->Getting user-product features\n",
      "--->Combining\n",
      "--->Making transformations\n",
      "Done in 210.048483849 seconds\n"
     ]
    }
   ],
   "source": [
    "mat = buildFeatures(orders[(orders.eval_set == \"train\") | (orders.eval_set == \"test\")],\n",
    "                    orders[orders.eval_set == \"prior\"], products, order_products_prior, \n",
    "                    order_products_train, verbose = True)"
   ]
  },
  {
   "cell_type": "code",
   "execution_count": 7,
   "metadata": {
    "collapsed": true
   },
   "outputs": [],
   "source": [
    "mat[mat.eval_set == \"train\"].to_pickle(TRAIN)\n",
    "mat[mat.eval_set == \"test\"].to_pickle(TEST)"
   ]
  }
 ],
 "metadata": {
  "kernelspec": {
   "display_name": "Python 2",
   "language": "python",
   "name": "python2"
  },
  "language_info": {
   "codemirror_mode": {
    "name": "ipython",
    "version": 2
   },
   "file_extension": ".py",
   "mimetype": "text/x-python",
   "name": "python",
   "nbconvert_exporter": "python",
   "pygments_lexer": "ipython2",
   "version": "2.7.13"
  }
 },
 "nbformat": 4,
 "nbformat_minor": 2
}
