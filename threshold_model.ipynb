{
 "cells": [
  {
   "cell_type": "markdown",
   "metadata": {},
   "source": [
    "# Threshold Model"
   ]
  },
  {
   "cell_type": "code",
   "execution_count": 33,
   "metadata": {},
   "outputs": [],
   "source": [
    "import pandas as pd\n",
    "import numpy as np\n",
    "import xgboost as xgb\n",
    "from constants import *\n",
    "from helpers import evaluate\n",
    "import warnings\n",
    "warnings.filterwarnings('ignore')"
   ]
  },
  {
   "cell_type": "code",
   "execution_count": 2,
   "metadata": {
    "collapsed": true
   },
   "outputs": [],
   "source": [
    "train = pd.read_pickle(THRESHOLD_TRAINING)\n",
    "test = pd.read_pickle(TEST)"
   ]
  },
  {
   "cell_type": "markdown",
   "metadata": {},
   "source": [
    "### Getting the Training Labels"
   ]
  },
  {
   "cell_type": "markdown",
   "metadata": {},
   "source": [
    "For each user (in the training set), I want to get what would've been the best threshold (by F1) to use. In the case where a user reordered no items, I'll set that threshold to be the max predicted probability. In the case where a user reordered all items, I'll set it to be the min predicted probability."
   ]
  },
  {
   "cell_type": "code",
   "execution_count": 3,
   "metadata": {
    "collapsed": true
   },
   "outputs": [],
   "source": [
    "def getBestThreshold(s):\n",
    "    '''\n",
    "    Function to be passed to agg to find the best F1 threshold.\n",
    "    Assumes tuple is sorted by descending probability.\n",
    "    '''\n",
    "    ordered = pd.Series([e[0] for e in s])\n",
    "    training_prob = [e[1] for e in s]\n",
    "    \n",
    "    p = ordered.sum()\n",
    "    cum_sum = ordered.cumsum().values\n",
    "    ix = ordered.index.values + 1\n",
    "    \n",
    "    if p == s.shape[0]: # case where everything was reordered\n",
    "        return min(training_prob)\n",
    "    elif p == 0: # case where nothing was reordered\n",
    "        return max(training_prob) + .000001\n",
    "        \n",
    "    \n",
    "    # TP, FP, and FN counts at each threshold value\n",
    "    tp = cum_sum\n",
    "    fp = ix - cum_sum\n",
    "    fn = p - cum_sum\n",
    "\n",
    "    # Precision/Recall/F1\n",
    "    pr = tp / (tp + fp)\n",
    "    re = tp / (tp + fn)\n",
    "    f1 = np.nan_to_num(2*pr*re / (pr + re))\n",
    "    \n",
    "    return training_prob[f1.argmax()]"
   ]
  },
  {
   "cell_type": "code",
   "execution_count": 4,
   "metadata": {
    "collapsed": true
   },
   "outputs": [],
   "source": [
    "best_threshold = (train\n",
    "                  .assign(ordered_threshold = zip(train.ordered, train.training_preds))\n",
    "                  .sort_values(by = [\"user_id\", \"training_preds\"], ascending = False)\n",
    "                  .reset_index()\n",
    "                  .groupby(\"user_id\")\n",
    "                  .agg({\n",
    "                      \"ordered_threshold\": getBestThreshold\n",
    "                  }))"
   ]
  },
  {
   "cell_type": "code",
   "execution_count": 5,
   "metadata": {},
   "outputs": [
    {
     "data": {
      "text/html": [
       "<div>\n",
       "<table border=\"1\" class=\"dataframe\">\n",
       "  <thead>\n",
       "    <tr style=\"text-align: right;\">\n",
       "      <th></th>\n",
       "      <th>ordered_threshold</th>\n",
       "    </tr>\n",
       "    <tr>\n",
       "      <th>user_id</th>\n",
       "      <th></th>\n",
       "    </tr>\n",
       "  </thead>\n",
       "  <tbody>\n",
       "    <tr>\n",
       "      <th>1</th>\n",
       "      <td>0.178010</td>\n",
       "    </tr>\n",
       "    <tr>\n",
       "      <th>2</th>\n",
       "      <td>0.129763</td>\n",
       "    </tr>\n",
       "    <tr>\n",
       "      <th>5</th>\n",
       "      <td>0.144712</td>\n",
       "    </tr>\n",
       "    <tr>\n",
       "      <th>7</th>\n",
       "      <td>0.221792</td>\n",
       "    </tr>\n",
       "    <tr>\n",
       "      <th>8</th>\n",
       "      <td>0.326707</td>\n",
       "    </tr>\n",
       "  </tbody>\n",
       "</table>\n",
       "</div>"
      ],
      "text/plain": [
       "         ordered_threshold\n",
       "user_id                   \n",
       "1                 0.178010\n",
       "2                 0.129763\n",
       "5                 0.144712\n",
       "7                 0.221792\n",
       "8                 0.326707"
      ]
     },
     "execution_count": 5,
     "metadata": {},
     "output_type": "execute_result"
    }
   ],
   "source": [
    "best_threshold.head()"
   ]
  },
  {
   "cell_type": "code",
   "execution_count": 9,
   "metadata": {},
   "outputs": [
    {
     "data": {
      "text/html": [
       "<div>\n",
       "<table border=\"1\" class=\"dataframe\">\n",
       "  <thead>\n",
       "    <tr style=\"text-align: right;\">\n",
       "      <th></th>\n",
       "      <th>ordered_threshold</th>\n",
       "    </tr>\n",
       "  </thead>\n",
       "  <tbody>\n",
       "    <tr>\n",
       "      <th>count</th>\n",
       "      <td>131209.000000</td>\n",
       "    </tr>\n",
       "    <tr>\n",
       "      <th>mean</th>\n",
       "      <td>0.265351</td>\n",
       "    </tr>\n",
       "    <tr>\n",
       "      <th>std</th>\n",
       "      <td>0.175073</td>\n",
       "    </tr>\n",
       "    <tr>\n",
       "      <th>min</th>\n",
       "      <td>0.003286</td>\n",
       "    </tr>\n",
       "    <tr>\n",
       "      <th>25%</th>\n",
       "      <td>0.132770</td>\n",
       "    </tr>\n",
       "    <tr>\n",
       "      <th>50%</th>\n",
       "      <td>0.221749</td>\n",
       "    </tr>\n",
       "    <tr>\n",
       "      <th>75%</th>\n",
       "      <td>0.362390</td>\n",
       "    </tr>\n",
       "    <tr>\n",
       "      <th>max</th>\n",
       "      <td>0.919504</td>\n",
       "    </tr>\n",
       "  </tbody>\n",
       "</table>\n",
       "</div>"
      ],
      "text/plain": [
       "       ordered_threshold\n",
       "count      131209.000000\n",
       "mean            0.265351\n",
       "std             0.175073\n",
       "min             0.003286\n",
       "25%             0.132770\n",
       "50%             0.221749\n",
       "75%             0.362390\n",
       "max             0.919504"
      ]
     },
     "execution_count": 9,
     "metadata": {},
     "output_type": "execute_result"
    }
   ],
   "source": [
    "best_threshold.describe()"
   ]
  },
  {
   "cell_type": "code",
   "execution_count": 6,
   "metadata": {},
   "outputs": [],
   "source": [
    "threshold_train = (train\n",
    "                   .set_index(\"user_id\")\n",
    "                   .join(best_threshold))"
   ]
  },
  {
   "cell_type": "markdown",
   "metadata": {},
   "source": [
    "Using a perfect threshold for each user on the training predictions, the max possible training F1 for my predictions is as follows:"
   ]
  },
  {
   "cell_type": "code",
   "execution_count": 10,
   "metadata": {},
   "outputs": [
    {
     "data": {
      "text/plain": [
       "{'dynamic': 0.58749444821651953}"
      ]
     },
     "execution_count": 10,
     "metadata": {},
     "output_type": "execute_result"
    }
   ],
   "source": [
    "evaluate(threshold_train, threshold_train.ordered.values, threshold_train.training_preds.values,\n",
    "         thr = threshold_train.ordered_threshold.values, dynamic = True)"
   ]
  },
  {
   "cell_type": "markdown",
   "metadata": {},
   "source": [
    "### Model"
   ]
  },
  {
   "cell_type": "code",
   "execution_count": 15,
   "metadata": {
    "collapsed": true
   },
   "outputs": [],
   "source": [
    "user_feature_list = [\"u_days_since_prior_order_mean\", \"u_days_since_prior_order_median\", \n",
    "                     \"u_total_orders_max\", \"u_basket_size\", \"u_reorder_rate_after_first_order\", \n",
    "                     \"u_products_nunique\", \"u_products_count\", \"u_total_reorders_sum\", \n",
    "                     \"o_days_since_prior_order\", \"u_products_ratio\"]"
   ]
  },
  {
   "cell_type": "code",
   "execution_count": 74,
   "metadata": {},
   "outputs": [],
   "source": [
    "X_train = train.set_index(\"user_id\")[user_feature_list].drop_duplicates()\n",
    "y_train = X_train.join(best_threshold)[\"ordered_threshold\"]\n",
    "X_test = test.set_index(\"user_id\")[user_feature_list].drop_duplicates()"
   ]
  },
  {
   "cell_type": "code",
   "execution_count": 75,
   "metadata": {},
   "outputs": [],
   "source": [
    "train_dm = xgb.DMatrix(X_train.values, feature_names = X_train.columns, label = y_train.values)\n",
    "test_dm = xgb.DMatrix(X_test.values, feature_names = X_test.columns)"
   ]
  },
  {
   "cell_type": "code",
   "execution_count": 68,
   "metadata": {},
   "outputs": [],
   "source": [
    "params = {\n",
    "  \"objective\": \"reg:linear\",\n",
    "  \"eval_metric\": \"rmse\",\n",
    "  \"eta\": 0.07,\n",
    "  \"max_depth\": 6,\n",
    "  \"alpha\": 2e-5,\n",
    "  \"lambda\": 2\n",
    "}"
   ]
  },
  {
   "cell_type": "code",
   "execution_count": 72,
   "metadata": {},
   "outputs": [],
   "source": [
    "# cv = xgb.cv(params, train_dm, 85)\n",
    "# cv.tail(10)"
   ]
  },
  {
   "cell_type": "code",
   "execution_count": 73,
   "metadata": {
    "collapsed": true
   },
   "outputs": [],
   "source": [
    "model = xgb.train(params, train_dm, 85)"
   ]
  },
  {
   "cell_type": "code",
   "execution_count": 76,
   "metadata": {
    "collapsed": true
   },
   "outputs": [],
   "source": [
    "test_preds = model.predict(test_dm)"
   ]
  },
  {
   "cell_type": "code",
   "execution_count": 83,
   "metadata": {},
   "outputs": [],
   "source": [
    "X_test.assign(test_preds = test_preds)[[\"test_preds\"]].to_pickle(TEST_THRESHOLD)"
   ]
  }
 ],
 "metadata": {
  "kernelspec": {
   "display_name": "Python 2",
   "language": "python",
   "name": "python2"
  },
  "language_info": {
   "codemirror_mode": {
    "name": "ipython",
    "version": 2
   },
   "file_extension": ".py",
   "mimetype": "text/x-python",
   "name": "python",
   "nbconvert_exporter": "python",
   "pygments_lexer": "ipython2",
   "version": "2.7.13"
  }
 },
 "nbformat": 4,
 "nbformat_minor": 2
}
